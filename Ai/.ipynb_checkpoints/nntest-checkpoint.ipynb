{
 "cells": [
  {
   "cell_type": "markdown",
   "id": "c90b0a14",
   "metadata": {},
   "source": [
    "--- Test nn with jupyter notebook ---\n",
    "I want to make a neural network to determine what will the performance of a student be according to some characteristics like social media usage, major, studying time etc"
   ]
  },
  {
   "cell_type": "code",
   "execution_count": null,
   "id": "eb41ad64",
   "metadata": {},
   "outputs": [],
   "source": [
    "import pandas as pd\n",
    "import numpy as np\n",
    "import matplotlib.pyplot as plt\n",
    "import seaborn as sns\n",
    "from sklearn.model_selection import train_test_split\n",
    "from sklearn.preprocessing import MinMaxScaler\n",
    "import torch\n",
    "from torch.utils.data import TensorDataset , DataLoader\n",
    "import torch.nn as nn \n",
    "import torch.optim as optim\n",
    "from ucimlrepo import fetch_ucirepo "
   ]
  }
 ],
 "metadata": {
  "kernelspec": {
   "display_name": "Python 3",
   "language": "python",
   "name": "python3"
  },
  "language_info": {
   "codemirror_mode": {
    "name": "ipython",
    "version": 3
   },
   "file_extension": ".py",
   "mimetype": "text/x-python",
   "name": "python",
   "nbconvert_exporter": "python",
   "pygments_lexer": "ipython3",
   "version": "3.11.9"
  }
 },
 "nbformat": 4,
 "nbformat_minor": 5
}
